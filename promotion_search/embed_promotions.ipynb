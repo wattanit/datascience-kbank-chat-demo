{
 "cells": [
  {
   "cell_type": "code",
   "execution_count": 1,
   "metadata": {},
   "outputs": [],
   "source": [
    "import json\n",
    "from openai import OpenAI\n",
    "from tenacity import retry, wait_random_exponential, stop_after_attempt\n",
    "from termcolor import colored \n",
    "import pandas as pd\n",
    "\n",
    "GPT_MODEL = \"text-embedding-3-large\"\n",
    "client = OpenAI()"
   ]
  },
  {
   "cell_type": "code",
   "execution_count": null,
   "metadata": {},
   "outputs": [],
   "source": [
    "promotion_df = pd.read_excel(\n",
    "    \"../data/Recommend Promotion Case.xlsx\", sheet_name=\"Promotion Special Day KBANK\"\n",
    ").reset_index()\n",
    "\n",
    "promotion_df.to_json(\"../data/promotions.json\", orient=\"records\", force_ascii=False)"
   ]
  },
  {
   "cell_type": "code",
   "execution_count": 2,
   "metadata": {},
   "outputs": [],
   "source": [
    "def get_embedding(text, model):\n",
    "   text = text.replace(\"\\n\", \" \")\n",
    "   return client.embeddings.create(input = [text], model=model).data[0].embedding"
   ]
  },
  {
   "cell_type": "code",
   "execution_count": 3,
   "metadata": {},
   "outputs": [],
   "source": [
    "promotions = json.load(open(\"../data/promotions.json\"))"
   ]
  },
  {
   "cell_type": "code",
   "execution_count": 4,
   "metadata": {},
   "outputs": [],
   "source": [
    "embedded_promotions = []\n",
    "for promotion in promotions:\n",
    "    embedded_promotion = {}\n",
    "    for key, value in promotion.items():\n",
    "        if key != 'index':\n",
    "            embedded_promotion[key] = get_embedding(value, GPT_MODEL)\n",
    "        else:\n",
    "            embedded_promotion[key] = value\n",
    "    embedded_promotions.append(embedded_promotion)"
   ]
  },
  {
   "cell_type": "code",
   "execution_count": 5,
   "metadata": {},
   "outputs": [],
   "source": [
    "file_path = \"../data/embed_promotions.json\"\n",
    "\n",
    "# Save the list of dictionaries as JSON\n",
    "with open(file_path, \"w\") as json_file:\n",
    "    json.dump(embedded_promotions, json_file)"
   ]
  },
  {
   "cell_type": "code",
   "execution_count": null,
   "metadata": {},
   "outputs": [],
   "source": []
  }
 ],
 "metadata": {
  "kernelspec": {
   "display_name": "base",
   "language": "python",
   "name": "python3"
  },
  "language_info": {
   "codemirror_mode": {
    "name": "ipython",
    "version": 3
   },
   "file_extension": ".py",
   "mimetype": "text/x-python",
   "name": "python",
   "nbconvert_exporter": "python",
   "pygments_lexer": "ipython3",
   "version": "3.9.7"
  }
 },
 "nbformat": 4,
 "nbformat_minor": 2
}
